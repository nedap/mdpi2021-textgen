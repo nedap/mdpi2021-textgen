{
 "cells": [
  {
   "cell_type": "code",
   "execution_count": 10,
   "metadata": {},
   "outputs": [
    {
     "data": {
      "application/vnd.jupyter.widget-view+json": {
       "model_id": "e876066990ab4f0c881913daa8497154",
       "version_major": 2,
       "version_minor": 0
      },
      "text/plain": [
       "Output()"
      ]
     },
     "metadata": {},
     "output_type": "display_data"
    }
   ],
   "source": [
    "import ipywidgets as widgets\n",
    "from IPython.display import clear_output\n",
    "\n",
    "\n",
    "i = 0\n",
    "\n",
    "output = widgets.Output()\n",
    "\n",
    "def test_component():\n",
    "    def new_button(b):\n",
    "        global i\n",
    "        i += 1\n",
    "        save = widgets.Button(description=f\"button {i}\")\n",
    "        save.on_click(new_button)\n",
    "        \n",
    "        with output:\n",
    "            clear_output(wait=True)\n",
    "            display(save)\n",
    "        \n",
    "        if i % 2 == 0:\n",
    "            text = widgets.HTML(value = \"<b>Even count</b>\")\n",
    "            \n",
    "            with output:\n",
    "                display(text)\n",
    "            \n",
    "    new_button(None)\n",
    "\n",
    "\n",
    "with output:\n",
    "    test_component()\n",
    "display(output)"
   ]
  }
 ],
 "metadata": {
  "kernelspec": {
   "display_name": "Python 3",
   "language": "python",
   "name": "python3"
  },
  "language_info": {
   "codemirror_mode": {
    "name": "ipython",
    "version": 3
   },
   "file_extension": ".py",
   "mimetype": "text/x-python",
   "name": "python",
   "nbconvert_exporter": "python",
   "pygments_lexer": "ipython3",
   "version": "3.8.6"
  },
  "toc": {
   "base_numbering": 1,
   "nav_menu": {},
   "number_sections": true,
   "sideBar": true,
   "skip_h1_title": false,
   "title_cell": "Table of Contents",
   "title_sidebar": "Contents",
   "toc_cell": false,
   "toc_position": {},
   "toc_section_display": true,
   "toc_window_display": false
  }
 },
 "nbformat": 4,
 "nbformat_minor": 4
}
